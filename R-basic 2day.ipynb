{
 "cells": [
  {
   "cell_type": "markdown",
   "metadata": {},
   "source": [
    "# 4장. 동일한 유형의 데이터 묶음 처리"
   ]
  },
  {
   "cell_type": "markdown",
   "metadata": {},
   "source": [
    "### 데이터 묶음"
   ]
  },
  {
   "cell_type": "markdown",
   "metadata": {},
   "source": [
    "+ 데이터 묶음으로써 많은 데이터를 편하게 정리하고 사용할 수 있다\n",
    "+ 데이터를 묶음으로 관리하기 위해서는 하나의 이름을 사용해야 한다\n",
    "+ 한가지의 데이터를 묶는방식은 속도측면에서 장점이 있다.\n",
    "+ 여러 가지의 데이터를 묶어서 관리하는 방법은 편리성에 장점이 있다.\n",
    "+ 하나의 열이나 행으로 묶는것을 벡터라고 하고 여러 행과 열을 묶으면 행렬이 된다."
   ]
  },
  {
   "cell_type": "code",
   "execution_count": 1,
   "metadata": {},
   "outputs": [],
   "source": [
    "kor <- c(80, 60, 90, 70)\n",
    "eng <- c(70, 50, 100)\n",
    "korEng <- c(kor,eng)\n",
    "math <- c(95, 70, \"95\", 80)\n",
    "kor2 <- c(90,80, T, TRUE)"
   ]
  },
  {
   "cell_type": "markdown",
   "metadata": {},
   "source": [
    "+ c는 combine으로 벡터를 만드는 함수이다\n",
    "+ korEng는 두 벡터를 연결한 것으로 옆으로 연결되어진다\n",
    "+ 데이터 묶음에 문자형이 하나라도 섞여있는 경우 모두 문자형으로 바뀐 벡터가 생성된다\n",
    "+ T,TRUE는 숫자 1로 바뀌어서 숫자형 벡터가 생성된다"
   ]
  },
  {
   "cell_type": "code",
   "execution_count": 2,
   "metadata": {},
   "outputs": [
    {
     "ename": "ERROR",
     "evalue": "Error in sum(sco): 인자의 'type' (character)이 올바르지 않습니다\n",
     "output_type": "error",
     "traceback": [
      "Error in sum(sco): 인자의 'type' (character)이 올바르지 않습니다\nTraceback:\n"
     ]
    }
   ],
   "source": [
    "kor <- 80\n",
    "math <- 90\n",
    "eng <- \"B\"\n",
    "sco <- c(kor,math,eng)\n",
    "tot <- sum(sco)"
   ]
  },
  {
   "cell_type": "markdown",
   "metadata": {},
   "source": [
    "+ sco가 문자형 벡터이므로 문자형의 합은 구할 수 없기때문에 에러가 난다"
   ]
  }
 ],
 "metadata": {
  "kernelspec": {
   "display_name": "R",
   "language": "R",
   "name": "ir"
  },
  "language_info": {
   "codemirror_mode": "r",
   "file_extension": ".r",
   "mimetype": "text/x-r-source",
   "name": "R",
   "pygments_lexer": "r",
   "version": "3.5.2"
  }
 },
 "nbformat": 4,
 "nbformat_minor": 2
}
